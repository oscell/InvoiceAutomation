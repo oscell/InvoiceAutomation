{
 "cells": [
  {
   "cell_type": "code",
   "execution_count": 8,
   "metadata": {},
   "outputs": [],
   "source": [
    "l = ['1'] * 10"
   ]
  },
  {
   "cell_type": "code",
   "execution_count": 11,
   "metadata": {},
   "outputs": [
    {
     "name": "stdout",
     "output_type": "stream",
     "text": [
      "['Client', 'Roadname 35C 52353 Cityville', 'G059', 'Loicia', 'My Adress', 'G50QD']\n"
     ]
    }
   ],
   "source": [
    "import pandas as pd\n",
    "\n",
    "info = ['']*6\n",
    "df = pd.read_csv(r'Info.csv', sep=',')\n",
    "\n",
    "for i in range(0,df.values.shape[0]):\n",
    "    \n",
    "    if df[df.columns[0]][i] == \"To\":\n",
    "        info[0]= df[df.columns[1]][i]\n",
    "        info[1]= df[df.columns[2]][i]\n",
    "        info[2]= df[df.columns[3]][i]\n",
    "        print(info)    \n",
    "    elif df[df.columns[0]][i] == \"From\":\n",
    "        info[3]= df[df.columns[1]][i]\n",
    "        info[4]= df[df.columns[2]][i]\n",
    "        info[5]= df[df.columns[3]][i]\n",
    "    \n",
    "    \n"
   ]
  }
 ],
 "metadata": {
  "kernelspec": {
   "display_name": "Python 3",
   "language": "python",
   "name": "python3"
  },
  "language_info": {
   "codemirror_mode": {
    "name": "ipython",
    "version": 3
   },
   "file_extension": ".py",
   "mimetype": "text/x-python",
   "name": "python",
   "nbconvert_exporter": "python",
   "pygments_lexer": "ipython3",
   "version": "3.10.9"
  },
  "orig_nbformat": 4,
  "vscode": {
   "interpreter": {
    "hash": "6589535852fa58f8fc0dcda32921d14277f67b782ad25e93a08555c5dc3ec55c"
   }
  }
 },
 "nbformat": 4,
 "nbformat_minor": 2
}
